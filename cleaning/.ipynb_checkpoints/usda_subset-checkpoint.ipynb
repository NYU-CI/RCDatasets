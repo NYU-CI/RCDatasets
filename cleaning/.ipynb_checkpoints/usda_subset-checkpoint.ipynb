{
 "cells": [
  {
   "cell_type": "code",
   "execution_count": 5,
   "metadata": {},
   "outputs": [],
   "source": [
    "import json\n",
    "import xml\n"
   ]
  },
  {
   "cell_type": "code",
   "execution_count": null,
   "metadata": {},
   "outputs": [],
   "source": [
    "with open('all_outputs_test.txt') as json_file:\n",
    "    datasets = json.load(json_file)"
   ]
  },
  {
   "cell_type": "code",
   "execution_count": null,
   "metadata": {},
   "outputs": [],
   "source": []
  },
  {
   "cell_type": "code",
   "execution_count": 3,
   "metadata": {},
   "outputs": [],
   "source": [
    "with open('usda_datasets_subset.json') as json_file:\n",
    "    datasets = json.load(json_file)"
   ]
  },
  {
   "cell_type": "code",
   "execution_count": 4,
   "metadata": {},
   "outputs": [
    {
     "data": {
      "text/plain": [
       "[{'dataset_name': 'Eating and Health Module',\n",
       "  'alias': ['EHM', 'Eating & Health Module']},\n",
       " {'dataset_name': 'Flexible Consumer Behavior Survey', 'alias': ['FCBS']},\n",
       " {'dataset_name': 'Linkages', 'alias': ['PPC', 'PPFPT']},\n",
       " {'dataset_name': 'IRI',\n",
       "  'alias': ['IRI Consumer Network',\n",
       "   'Consumer Network',\n",
       "   'IRI Infoscan',\n",
       "   'Infoscan',\n",
       "   'scanner data',\n",
       "   'retail scanner data',\n",
       "   'household scanner data']},\n",
       " {'dataset_name': 'TDLinx', 'alias': 'Nielsen TDLinx'},\n",
       " {'dataset_name': 'FoodAPS',\n",
       "  'alias': ['National Household Food Acquisition and Purchase Survey']},\n",
       " {'dataset_name': 'NPD Recount'},\n",
       " {'dataset_name': 'Food Security Data',\n",
       "  'alias': ['NHANES-FSQ', 'CPS-FSQ', 'NHIS-FFS', 'FSSM']}]"
      ]
     },
     "execution_count": 4,
     "metadata": {},
     "output_type": "execute_result"
    }
   ],
   "source": [
    "datasets"
   ]
  },
  {
   "cell_type": "code",
   "execution_count": 16,
   "metadata": {},
   "outputs": [],
   "source": [
    "import xml.etree.ElementTree as ET\n",
    "xml_path = \"all_outputs_test.xml\"\n",
    "# import xml.etree.ElementTree as ET\n",
    "\n",
    "\n",
    "data = ET.parse(xml_path)\n",
    "root = data.getroot()\n",
    "for listing in root.findall(\"titles\"):\n",
    "    address = listing.find('title')\n",
    "    print(address)\n",
    "# tree = ET.parse(xml_path)\n",
    "# root = tree.getroot()"
   ]
  },
  {
   "cell_type": "code",
   "execution_count": null,
   "metadata": {},
   "outputs": [],
   "source": []
  },
  {
   "cell_type": "code",
   "execution_count": 8,
   "metadata": {},
   "outputs": [
    {
     "data": {
      "text/plain": [
       "<Element 'xml' at 0x104f39c28>"
      ]
     },
     "execution_count": 8,
     "metadata": {},
     "output_type": "execute_result"
    }
   ],
   "source": [
    "root"
   ]
  },
  {
   "cell_type": "code",
   "execution_count": 9,
   "metadata": {},
   "outputs": [
    {
     "name": "stdout",
     "output_type": "stream",
     "text": [
      "records {}\n"
     ]
    }
   ],
   "source": [
    "for child in root:\n",
    "    print(child.tag, child.attrib)"
   ]
  },
  {
   "cell_type": "code",
   "execution_count": 13,
   "metadata": {},
   "outputs": [
    {
     "data": {
      "text/plain": [
       "<Element 'records' at 0x104f39b38>"
      ]
     },
     "execution_count": 13,
     "metadata": {},
     "output_type": "execute_result"
    }
   ],
   "source": [
    "root[0]"
   ]
  },
  {
   "cell_type": "code",
   "execution_count": 14,
   "metadata": {},
   "outputs": [
    {
     "data": {
      "text/plain": [
       "[]"
      ]
     },
     "execution_count": 14,
     "metadata": {},
     "output_type": "execute_result"
    }
   ],
   "source": [
    "# root = ET.fromstring(countrydata)\n",
    "root.findall(\"keyword\")\n"
   ]
  },
  {
   "cell_type": "code",
   "execution_count": null,
   "metadata": {},
   "outputs": [],
   "source": [
    "import xml.etree.ElementTree as ET\n",
    "\n",
    "\n",
    "data = ET.parse('data.xml')\n",
    "root = data.getroot()\n",
    "for listing in root.findall(\"listing\"):"
   ]
  }
 ],
 "metadata": {
  "kernelspec": {
   "display_name": "Python 3",
   "language": "python",
   "name": "python3"
  },
  "language_info": {
   "codemirror_mode": {
    "name": "ipython",
    "version": 3
   },
   "file_extension": ".py",
   "mimetype": "text/x-python",
   "name": "python",
   "nbconvert_exporter": "python",
   "pygments_lexer": "ipython3",
   "version": "3.7.3"
  }
 },
 "nbformat": 4,
 "nbformat_minor": 2
}
