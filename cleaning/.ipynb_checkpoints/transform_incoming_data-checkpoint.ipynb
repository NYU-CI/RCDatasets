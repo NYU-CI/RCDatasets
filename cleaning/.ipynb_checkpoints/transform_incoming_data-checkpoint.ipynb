{
 "cells": [
  {
   "cell_type": "code",
   "execution_count": 23,
   "metadata": {},
   "outputs": [],
   "source": [
    "import pandas as pd\n",
    "import json\n",
    "import re\n",
    "from string import punctuation\n",
    "import numpy as np\n",
    "import metadata_funs"
   ]
  },
  {
   "cell_type": "code",
   "execution_count": 54,
   "metadata": {},
   "outputs": [],
   "source": [
    "ers_path = 'FY2014-19 Datasets for ERS Publications.xlsx'\n",
    "ers_df_list = []\n",
    "ers_xls = pd.ExcelFile(ers_path)\n",
    "sheet_names = ers_xls.sheet_names"
   ]
  },
  {
   "cell_type": "code",
   "execution_count": 55,
   "metadata": {},
   "outputs": [],
   "source": [
    "sheet_names_lim = ['Census Surveys', 'CES', 'CPS-FSS', 'Cost Est. Foodborne Illnesses'\n",
    "                   , 'FDA-FSIS-AMS', 'FADS-LAFA', 'FARA', 'FICRCD-CSFII', 'FNS', 'FoodAPS'\n",
    "                   ,'IRI', 'NHANES', 'Nielsen', 'Qtrly FAFH', 'SNAP Admin', 'TD Linx', 'SCH MEALS DATA']"
   ]
  },
  {
   "cell_type": "code",
   "execution_count": 57,
   "metadata": {},
   "outputs": [],
   "source": [
    "for n in sheet_names_lim:\n",
    "# for n in ['FY14', 'FY15']:\n",
    "    ers_pubs = pd.read_excel(ers_path, sheet_name = n,header = 1)\n",
    "    this_df = pd.DataFrame({'titles':ers_pubs['Titles'],'sheet_name':np.repeat(n,len(ers_pubs['Datasets']))\n",
    "          ,'datasets':ers_pubs['Datasets']})\n",
    "    ers_df_list.append(this_df)"
   ]
  },
  {
   "cell_type": "code",
   "execution_count": 58,
   "metadata": {},
   "outputs": [],
   "source": [
    "ers_df = pd.concat(ers_df_list)\n",
    "ers_df = ers_df.drop_duplicates()\n",
    "ers_df = ers_df.dropna(subset=['datasets'])"
   ]
  },
  {
   "cell_type": "code",
   "execution_count": 59,
   "metadata": {},
   "outputs": [
    {
     "data": {
      "text/html": [
       "<div>\n",
       "<style scoped>\n",
       "    .dataframe tbody tr th:only-of-type {\n",
       "        vertical-align: middle;\n",
       "    }\n",
       "\n",
       "    .dataframe tbody tr th {\n",
       "        vertical-align: top;\n",
       "    }\n",
       "\n",
       "    .dataframe thead th {\n",
       "        text-align: right;\n",
       "    }\n",
       "</style>\n",
       "<table border=\"1\" class=\"dataframe\">\n",
       "  <thead>\n",
       "    <tr style=\"text-align: right;\">\n",
       "      <th></th>\n",
       "      <th>titles</th>\n",
       "      <th>sheet_name</th>\n",
       "      <th>datasets</th>\n",
       "      <th>pub_uid</th>\n",
       "    </tr>\n",
       "  </thead>\n",
       "  <tbody>\n",
       "    <tr>\n",
       "      <th>0</th>\n",
       "      <td>Participation in SNAP and Unemployment Insuran...</td>\n",
       "      <td>Census Surveys</td>\n",
       "      <td>▪CPS ▪ASEC</td>\n",
       "      <td>6fe5f86987168eae17ca</td>\n",
       "    </tr>\n",
       "    <tr>\n",
       "      <th>1</th>\n",
       "      <td>Measuring Access to Healthful, Affordable Food...</td>\n",
       "      <td>Census Surveys</td>\n",
       "      <td>▪2010 Census TIGER/Line® Shapefiles ▪2010 Cens...</td>\n",
       "      <td>6fe5f86987168eae17ca</td>\n",
       "    </tr>\n",
       "    <tr>\n",
       "      <th>2</th>\n",
       "      <td>Annual and Monthly SNAP Participation Rates</td>\n",
       "      <td>Census Surveys</td>\n",
       "      <td>▪SIPP and ACS</td>\n",
       "      <td>6fe5f86987168eae17ca</td>\n",
       "    </tr>\n",
       "    <tr>\n",
       "      <th>3</th>\n",
       "      <td>Food Choices and Store Proximity</td>\n",
       "      <td>Census Surveys</td>\n",
       "      <td>▪U.S. Census Bureau (2010 Census Tract)</td>\n",
       "      <td>6fe5f86987168eae17ca</td>\n",
       "    </tr>\n",
       "    <tr>\n",
       "      <th>4</th>\n",
       "      <td>Improving the Assessment of SNAP Targeting Usi...</td>\n",
       "      <td>Census Surveys</td>\n",
       "      <td>▪American Community Survey (ACS)</td>\n",
       "      <td>6fe5f86987168eae17ca</td>\n",
       "    </tr>\n",
       "  </tbody>\n",
       "</table>\n",
       "</div>"
      ],
      "text/plain": [
       "                                              titles      sheet_name  \\\n",
       "0  Participation in SNAP and Unemployment Insuran...  Census Surveys   \n",
       "1  Measuring Access to Healthful, Affordable Food...  Census Surveys   \n",
       "2        Annual and Monthly SNAP Participation Rates  Census Surveys   \n",
       "3                   Food Choices and Store Proximity  Census Surveys   \n",
       "4  Improving the Assessment of SNAP Targeting Usi...  Census Surveys   \n",
       "\n",
       "                                            datasets               pub_uid  \n",
       "0                                         ▪CPS ▪ASEC  6fe5f86987168eae17ca  \n",
       "1  ▪2010 Census TIGER/Line® Shapefiles ▪2010 Cens...  6fe5f86987168eae17ca  \n",
       "2                                      ▪SIPP and ACS  6fe5f86987168eae17ca  \n",
       "3            ▪U.S. Census Bureau (2010 Census Tract)  6fe5f86987168eae17ca  \n",
       "4                   ▪American Community Survey (ACS)  6fe5f86987168eae17ca  "
      ]
     },
     "execution_count": 59,
     "metadata": {},
     "output_type": "execute_result"
    }
   ],
   "source": [
    "ers_df['pub_uid'] = metadata_funs.get_hash(ers_df['titles'])\n",
    "ers_df.head()"
   ]
  },
  {
   "cell_type": "code",
   "execution_count": 60,
   "metadata": {},
   "outputs": [],
   "source": [
    "split_df = pd.concat([pd.Series(row['pub_uid'], row['datasets'].split('▪'))              \n",
    "                    for _, row in ers_df.iterrows()]).reset_index()\n",
    "\n",
    "split_df = split_df.rename(index=str, columns={\"index\": \"datasets\", 0: \"pub_uid\"})\n",
    "ers_df_full = pd.merge(ers_df,split_df,how = \"inner\", on = \"pub_uid\")\n",
    "ers_df_full_lim = ers_df_full[['titles','sheet_name','pub_uid','datasets_y']]\n",
    "# ers_df_full_lim.head()"
   ]
  },
  {
   "cell_type": "code",
   "execution_count": 61,
   "metadata": {},
   "outputs": [],
   "source": [
    "ers_df_clean = ers_df_full_lim[ers_df_full_lim['datasets_y'].astype(bool)      ]"
   ]
  },
  {
   "cell_type": "code",
   "execution_count": 62,
   "metadata": {},
   "outputs": [
    {
     "data": {
      "text/plain": [
       "array(['Census Surveys', 'CES', 'CPS-FSS',\n",
       "       'Cost Est. Foodborne Illnesses', 'FDA-FSIS-AMS', 'FADS-LAFA',\n",
       "       'FARA', 'FICRCD-CSFII', 'FNS', 'FoodAPS', 'IRI', 'NHANES',\n",
       "       'Nielsen', 'SNAP Admin', 'TD Linx', 'SCH MEALS DATA'], dtype=object)"
      ]
     },
     "execution_count": 62,
     "metadata": {},
     "output_type": "execute_result"
    }
   ],
   "source": [
    "ers_df_clean.head()\n",
    "ers_df_clean.sheet_name.unique()\n",
    "\n"
   ]
  },
  {
   "cell_type": "code",
   "execution_count": 65,
   "metadata": {},
   "outputs": [],
   "source": [
    "def data_creator(row):\n",
    "    if row['sheet_name'] =='Census Surveys':\n",
    "        val = \"U.S. Census Bureau\"\n",
    "    elif row['sheet_name'] =='CES':\n",
    "        val = \"Bureau of Labor Statistics\"\n",
    "    elif row['sheet_name'] =='CPS-FSS':\n",
    "        val = [\"Bureau of Labor Statistics\",\"U.S. Census Bureau\",\"U.S. Department of Agriculture\"]\n",
    "    elif row['sheet_name'] in ['SCH MEALS DATA','SNAP Admin','Cost Est. Foodborne Illnesses','FDA-FSIS-AMS','FADS-LAFA','FARA','FICRCD-CSFII','FNS','FoodAPS']:\n",
    "        val = \"U.S. Department of Agriculture\"\n",
    "    elif row['sheet_name'] in ['IRI','Nielsen','TD Linx']:\n",
    "        val = \"Nielsen\"\n",
    "    else:\n",
    "        val = row['sheet_name']\n",
    "    return val\n",
    "\n",
    "# def data_provider(row):\n",
    "#     if row['sheet_name'] =='Census Surveys':\n",
    "#         val = \"U.S. Census Bureau\"\n",
    "#     elif row['A'] > row['B']:\n",
    "#         val = 1\n",
    "#     else:\n",
    "#         val = -1\n",
    "#     return val"
   ]
  },
  {
   "cell_type": "code",
   "execution_count": 66,
   "metadata": {},
   "outputs": [
    {
     "ename": "UnboundLocalError",
     "evalue": "(\"local variable 'val' referenced before assignment\", 'occurred at index 17115')",
     "output_type": "error",
     "traceback": [
      "\u001b[0;31m---------------------------------------------------------------------------\u001b[0m",
      "\u001b[0;31mUnboundLocalError\u001b[0m                         Traceback (most recent call last)",
      "\u001b[0;32m<ipython-input-66-a7cd7ddbd7f0>\u001b[0m in \u001b[0;36m<module>\u001b[0;34m\u001b[0m\n\u001b[1;32m      1\u001b[0m \u001b[0;31m# data_provider\u001b[0m\u001b[0;34m\u001b[0m\u001b[0;34m\u001b[0m\u001b[0;34m\u001b[0m\u001b[0m\n\u001b[0;32m----> 2\u001b[0;31m \u001b[0mers_df_clean\u001b[0m\u001b[0;34m[\u001b[0m\u001b[0;34m'C'\u001b[0m\u001b[0;34m]\u001b[0m \u001b[0;34m=\u001b[0m \u001b[0mers_df_clean\u001b[0m\u001b[0;34m.\u001b[0m\u001b[0mapply\u001b[0m\u001b[0;34m(\u001b[0m\u001b[0mdata_creator\u001b[0m\u001b[0;34m,\u001b[0m \u001b[0maxis\u001b[0m\u001b[0;34m=\u001b[0m\u001b[0;36m1\u001b[0m\u001b[0;34m)\u001b[0m\u001b[0;34m\u001b[0m\u001b[0;34m\u001b[0m\u001b[0m\n\u001b[0m",
      "\u001b[0;32m~/anaconda3/lib/python3.7/site-packages/pandas/core/frame.py\u001b[0m in \u001b[0;36mapply\u001b[0;34m(self, func, axis, broadcast, raw, reduce, result_type, args, **kwds)\u001b[0m\n\u001b[1;32m   6485\u001b[0m                          \u001b[0margs\u001b[0m\u001b[0;34m=\u001b[0m\u001b[0margs\u001b[0m\u001b[0;34m,\u001b[0m\u001b[0;34m\u001b[0m\u001b[0;34m\u001b[0m\u001b[0m\n\u001b[1;32m   6486\u001b[0m                          kwds=kwds)\n\u001b[0;32m-> 6487\u001b[0;31m         \u001b[0;32mreturn\u001b[0m \u001b[0mop\u001b[0m\u001b[0;34m.\u001b[0m\u001b[0mget_result\u001b[0m\u001b[0;34m(\u001b[0m\u001b[0;34m)\u001b[0m\u001b[0;34m\u001b[0m\u001b[0;34m\u001b[0m\u001b[0m\n\u001b[0m\u001b[1;32m   6488\u001b[0m \u001b[0;34m\u001b[0m\u001b[0m\n\u001b[1;32m   6489\u001b[0m     \u001b[0;32mdef\u001b[0m \u001b[0mapplymap\u001b[0m\u001b[0;34m(\u001b[0m\u001b[0mself\u001b[0m\u001b[0;34m,\u001b[0m \u001b[0mfunc\u001b[0m\u001b[0;34m)\u001b[0m\u001b[0;34m:\u001b[0m\u001b[0;34m\u001b[0m\u001b[0;34m\u001b[0m\u001b[0m\n",
      "\u001b[0;32m~/anaconda3/lib/python3.7/site-packages/pandas/core/apply.py\u001b[0m in \u001b[0;36mget_result\u001b[0;34m(self)\u001b[0m\n\u001b[1;32m    149\u001b[0m             \u001b[0;32mreturn\u001b[0m \u001b[0mself\u001b[0m\u001b[0;34m.\u001b[0m\u001b[0mapply_raw\u001b[0m\u001b[0;34m(\u001b[0m\u001b[0;34m)\u001b[0m\u001b[0;34m\u001b[0m\u001b[0;34m\u001b[0m\u001b[0m\n\u001b[1;32m    150\u001b[0m \u001b[0;34m\u001b[0m\u001b[0m\n\u001b[0;32m--> 151\u001b[0;31m         \u001b[0;32mreturn\u001b[0m \u001b[0mself\u001b[0m\u001b[0;34m.\u001b[0m\u001b[0mapply_standard\u001b[0m\u001b[0;34m(\u001b[0m\u001b[0;34m)\u001b[0m\u001b[0;34m\u001b[0m\u001b[0;34m\u001b[0m\u001b[0m\n\u001b[0m\u001b[1;32m    152\u001b[0m \u001b[0;34m\u001b[0m\u001b[0m\n\u001b[1;32m    153\u001b[0m     \u001b[0;32mdef\u001b[0m \u001b[0mapply_empty_result\u001b[0m\u001b[0;34m(\u001b[0m\u001b[0mself\u001b[0m\u001b[0;34m)\u001b[0m\u001b[0;34m:\u001b[0m\u001b[0;34m\u001b[0m\u001b[0;34m\u001b[0m\u001b[0m\n",
      "\u001b[0;32m~/anaconda3/lib/python3.7/site-packages/pandas/core/apply.py\u001b[0m in \u001b[0;36mapply_standard\u001b[0;34m(self)\u001b[0m\n\u001b[1;32m    255\u001b[0m \u001b[0;34m\u001b[0m\u001b[0m\n\u001b[1;32m    256\u001b[0m         \u001b[0;31m# compute the result using the series generator\u001b[0m\u001b[0;34m\u001b[0m\u001b[0;34m\u001b[0m\u001b[0;34m\u001b[0m\u001b[0m\n\u001b[0;32m--> 257\u001b[0;31m         \u001b[0mself\u001b[0m\u001b[0;34m.\u001b[0m\u001b[0mapply_series_generator\u001b[0m\u001b[0;34m(\u001b[0m\u001b[0;34m)\u001b[0m\u001b[0;34m\u001b[0m\u001b[0;34m\u001b[0m\u001b[0m\n\u001b[0m\u001b[1;32m    258\u001b[0m \u001b[0;34m\u001b[0m\u001b[0m\n\u001b[1;32m    259\u001b[0m         \u001b[0;31m# wrap results\u001b[0m\u001b[0;34m\u001b[0m\u001b[0;34m\u001b[0m\u001b[0;34m\u001b[0m\u001b[0m\n",
      "\u001b[0;32m~/anaconda3/lib/python3.7/site-packages/pandas/core/apply.py\u001b[0m in \u001b[0;36mapply_series_generator\u001b[0;34m(self)\u001b[0m\n\u001b[1;32m    284\u001b[0m             \u001b[0;32mtry\u001b[0m\u001b[0;34m:\u001b[0m\u001b[0;34m\u001b[0m\u001b[0;34m\u001b[0m\u001b[0m\n\u001b[1;32m    285\u001b[0m                 \u001b[0;32mfor\u001b[0m \u001b[0mi\u001b[0m\u001b[0;34m,\u001b[0m \u001b[0mv\u001b[0m \u001b[0;32min\u001b[0m \u001b[0menumerate\u001b[0m\u001b[0;34m(\u001b[0m\u001b[0mseries_gen\u001b[0m\u001b[0;34m)\u001b[0m\u001b[0;34m:\u001b[0m\u001b[0;34m\u001b[0m\u001b[0;34m\u001b[0m\u001b[0m\n\u001b[0;32m--> 286\u001b[0;31m                     \u001b[0mresults\u001b[0m\u001b[0;34m[\u001b[0m\u001b[0mi\u001b[0m\u001b[0;34m]\u001b[0m \u001b[0;34m=\u001b[0m \u001b[0mself\u001b[0m\u001b[0;34m.\u001b[0m\u001b[0mf\u001b[0m\u001b[0;34m(\u001b[0m\u001b[0mv\u001b[0m\u001b[0;34m)\u001b[0m\u001b[0;34m\u001b[0m\u001b[0;34m\u001b[0m\u001b[0m\n\u001b[0m\u001b[1;32m    287\u001b[0m                     \u001b[0mkeys\u001b[0m\u001b[0;34m.\u001b[0m\u001b[0mappend\u001b[0m\u001b[0;34m(\u001b[0m\u001b[0mv\u001b[0m\u001b[0;34m.\u001b[0m\u001b[0mname\u001b[0m\u001b[0;34m)\u001b[0m\u001b[0;34m\u001b[0m\u001b[0;34m\u001b[0m\u001b[0m\n\u001b[1;32m    288\u001b[0m             \u001b[0;32mexcept\u001b[0m \u001b[0mException\u001b[0m \u001b[0;32mas\u001b[0m \u001b[0me\u001b[0m\u001b[0;34m:\u001b[0m\u001b[0;34m\u001b[0m\u001b[0;34m\u001b[0m\u001b[0m\n",
      "\u001b[0;32m<ipython-input-65-e677b20cb8fb>\u001b[0m in \u001b[0;36mdata_creator\u001b[0;34m(row)\u001b[0m\n\u001b[1;32m     10\u001b[0m     \u001b[0;32melif\u001b[0m \u001b[0mrow\u001b[0m\u001b[0;34m[\u001b[0m\u001b[0;34m'sheet_name'\u001b[0m\u001b[0;34m]\u001b[0m \u001b[0;32min\u001b[0m \u001b[0;34m[\u001b[0m\u001b[0;34m'IRI'\u001b[0m\u001b[0;34m,\u001b[0m\u001b[0;34m'Nielsen'\u001b[0m\u001b[0;34m,\u001b[0m\u001b[0;34m'TD Linx'\u001b[0m\u001b[0;34m]\u001b[0m\u001b[0;34m:\u001b[0m\u001b[0;34m\u001b[0m\u001b[0;34m\u001b[0m\u001b[0m\n\u001b[1;32m     11\u001b[0m         \u001b[0mval\u001b[0m \u001b[0;34m=\u001b[0m \u001b[0;34m\"Nielsen\"\u001b[0m\u001b[0;34m\u001b[0m\u001b[0;34m\u001b[0m\u001b[0m\n\u001b[0;32m---> 12\u001b[0;31m     \u001b[0;32mreturn\u001b[0m \u001b[0mval\u001b[0m\u001b[0;34m\u001b[0m\u001b[0;34m\u001b[0m\u001b[0m\n\u001b[0m\u001b[1;32m     13\u001b[0m \u001b[0;34m\u001b[0m\u001b[0m\n\u001b[1;32m     14\u001b[0m \u001b[0;31m# def data_provider(row):\u001b[0m\u001b[0;34m\u001b[0m\u001b[0;34m\u001b[0m\u001b[0;34m\u001b[0m\u001b[0m\n",
      "\u001b[0;31mUnboundLocalError\u001b[0m: (\"local variable 'val' referenced before assignment\", 'occurred at index 17115')"
     ]
    }
   ],
   "source": [
    "# data_provider\n",
    "ers_df_clean['C'] = ers_df_clean.apply(data_creator, axis=1)\n"
   ]
  },
  {
   "cell_type": "code",
   "execution_count": null,
   "metadata": {},
   "outputs": [],
   "source": []
  },
  {
   "cell_type": "code",
   "execution_count": 10,
   "metadata": {},
   "outputs": [],
   "source": [
    "ers_datasets = ers_df.datasets.unique().tolist()\n",
    "# ers_datasets[0:1]"
   ]
  },
  {
   "cell_type": "code",
   "execution_count": 11,
   "metadata": {},
   "outputs": [],
   "source": [
    "flatten = lambda l: [item for sublist in l for item in sublist]"
   ]
  },
  {
   "cell_type": "code",
   "execution_count": 21,
   "metadata": {},
   "outputs": [],
   "source": [
    "a = list(set([b.strip() for b in flatten([e.split('▪') for e in  ers_datasets]) if b not in ['',' ']]))\n",
    "b = [{'dataset_name':b} for b in a]\n",
    "\n",
    "# json.dumps(a,'usda_datasets_dirty.json',indent = 2)\n",
    "with open('usda_datasets_dirty.json', 'w') as outfile:\n",
    "    json.dump(b, outfile,indent = 2)"
   ]
  },
  {
   "cell_type": "code",
   "execution_count": null,
   "metadata": {},
   "outputs": [],
   "source": []
  },
  {
   "cell_type": "code",
   "execution_count": null,
   "metadata": {},
   "outputs": [],
   "source": [
    "flatten = lambda l: [item for sublist in l for item in sublist]"
   ]
  },
  {
   "cell_type": "code",
   "execution_count": null,
   "metadata": {},
   "outputs": [],
   "source": [
    "ers_datasets = ers_pubs['Datasets'].unique().tolist()\n",
    "# [e.replace()ers_datasets\n",
    "# [re.sub('[^A-Za-z0-9]+', ' ', e).strip() for e in ers_datasets]\n",
    "# [re.sub('▪', ',', e).strip(punctuation) for e in ers_datasets][]\n",
    "ers_datasets_clean = [f.replace('\\n',' ').strip() for f in flatten([e.split('▪') for e in ers_datasets]) if f not in ['',' ']]\n",
    "ers_datasets_clean\n",
    "\n"
   ]
  },
  {
   "cell_type": "code",
   "execution_count": null,
   "metadata": {},
   "outputs": [],
   "source": [
    "from string import punctuation\n",
    "s = '.$ABC-799-99,#'\n",
    "\n",
    "print(s.strip(punctuation))"
   ]
  },
  {
   "cell_type": "code",
   "execution_count": null,
   "metadata": {},
   "outputs": [],
   "source": []
  },
  {
   "cell_type": "code",
   "execution_count": null,
   "metadata": {},
   "outputs": [],
   "source": []
  },
  {
   "cell_type": "code",
   "execution_count": null,
   "metadata": {},
   "outputs": [],
   "source": []
  }
 ],
 "metadata": {
  "kernelspec": {
   "display_name": "Python 3",
   "language": "python",
   "name": "python3"
  },
  "language_info": {
   "codemirror_mode": {
    "name": "ipython",
    "version": 3
   },
   "file_extension": ".py",
   "mimetype": "text/x-python",
   "name": "python",
   "nbconvert_exporter": "python",
   "pygments_lexer": "ipython3",
   "version": "3.7.3"
  }
 },
 "nbformat": 4,
 "nbformat_minor": 2
}
