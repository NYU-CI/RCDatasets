{
 "cells": [
  {
   "cell_type": "code",
   "execution_count": 68,
   "metadata": {},
   "outputs": [],
   "source": [
    "import pandas as pd\n",
    "import re\n",
    "import json\n",
    "import psycopg2\n",
    "# import pandas\n",
    "# import metadata_funs"
   ]
  },
  {
   "cell_type": "code",
   "execution_count": 69,
   "metadata": {},
   "outputs": [],
   "source": [
    "ers_path = 'FY2014-19 Datasets for ERS Publications.xlsx'\n",
    "ers_df_list = []\n",
    "ers_xls = pd.ExcelFile(ers_path)\n",
    "sheet_names = ers_xls.sheet_names"
   ]
  },
  {
   "cell_type": "code",
   "execution_count": 70,
   "metadata": {},
   "outputs": [],
   "source": [
    "sheet_names_lim = ['Census Surveys', 'CES', 'CPS-FSS', 'Cost Est. Foodborne Illnesses'\n",
    "                   , 'FDA-FSIS-AMS', 'FADS-LAFA', 'FARA', 'FICRCD-CSFII', 'FNS', 'FoodAPS'\n",
    "                   ,'IRI', 'NHANES', 'Nielsen', 'Qtrly FAFH', 'SNAP Admin', 'TD Linx', 'SCH MEALS DATA']"
   ]
  },
  {
   "cell_type": "code",
   "execution_count": 80,
   "metadata": {},
   "outputs": [],
   "source": [
    "def db_connect():\n",
    "    conn = psycopg2.connect(\"dbname='rcdb' user='postgres' host='richcontext.cz5u3bpfaar4.us-east-1.rds.amazonaws.com' password='rc_dumps'\")\n",
    "    return conn\n",
    "\n",
    "def gen_insert_vals(ers_pubs):\n",
    "    Row_list =[] \n",
    "    for index, row in ers_pubs.iterrows(): \n",
    "        my_list =[row.sheet_name,row.Author,row.Released,row.Series,row.Titles,row.Datasets]\n",
    "        my_list = [str(m).strip() for m in my_list]\n",
    "        my_list = [re.sub(\"'\",\"''\",m) for m in my_list]\n",
    "        Row_list.append(my_list) \n",
    "    return Row_list\n",
    "\n",
    "def insert_ers_linkages(Row_list):\n",
    "    for r in Row_list:\n",
    "        insert_statement = \"\"\"INSERT INTO public.usda_linkages_20190913 (sheet_name, author, released, series, titles, datasets)\n",
    "        VALUES {};\"\"\".format(tuple(r))\n",
    "        conn = db_connect()\n",
    "        cursor = conn.cursor()\n",
    "        try:\n",
    "            cursor.execute(insert_statement)\n",
    "            conn.commit()\n",
    "        except:\n",
    "            pass\n",
    "        \n",
    "def run_select_query(conn,query):\n",
    "    cur = conn.cursor()\n",
    "    cur.execute(query)\n",
    "    rows = cur.fetchall()\n",
    "    cur.close()\n",
    "    return rows"
   ]
  },
  {
   "cell_type": "code",
   "execution_count": 72,
   "metadata": {},
   "outputs": [],
   "source": [
    "def fetch_existing_records():\n",
    "    conn = db_connect()\n",
    "    select_query = \"\"\"SELECT author, released, series, titles, datasets\n",
    "    FROM public.usda_linkages_20190913; \"\"\"\n",
    "    existing_records = run_select_query(conn,select_query)  \n",
    "    existing_records_list = [list(r) for r in existing_records]\n",
    "    return existing_records_list"
   ]
  },
  {
   "cell_type": "code",
   "execution_count": 81,
   "metadata": {},
   "outputs": [],
   "source": [
    "for n in sheet_names_lim:\n",
    "    existing_records = fetch_existing_records()\n",
    "    ers_pubs = pd.read_excel(ers_path, sheet_name = n,header = 1)\n",
    "    ers_pubs['sheet_name'] = n\n",
    "    row_list = gen_insert_vals(ers_pubs)\n",
    "    push_list = [p for p in row_list if p not in existing_records]\n",
    "    if len(push_list) > 0:\n",
    "        insert_ers_linkages(push_list)\n",
    "    elif len(push_list) == 0:\n",
    "        pass"
   ]
  },
  {
   "cell_type": "code",
   "execution_count": null,
   "metadata": {},
   "outputs": [],
   "source": []
  },
  {
   "cell_type": "code",
   "execution_count": null,
   "metadata": {},
   "outputs": [],
   "source": []
  }
 ],
 "metadata": {
  "kernelspec": {
   "display_name": "Python 3",
   "language": "python",
   "name": "python3"
  },
  "language_info": {
   "codemirror_mode": {
    "name": "ipython",
    "version": 3
   },
   "file_extension": ".py",
   "mimetype": "text/x-python",
   "name": "python",
   "nbconvert_exporter": "python",
   "pygments_lexer": "ipython3",
   "version": "3.7.3"
  }
 },
 "nbformat": 4,
 "nbformat_minor": 2
}
