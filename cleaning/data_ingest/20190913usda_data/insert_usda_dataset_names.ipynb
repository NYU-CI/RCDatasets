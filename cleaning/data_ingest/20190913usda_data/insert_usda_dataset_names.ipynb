{
 "cells": [
  {
   "cell_type": "code",
   "execution_count": 39,
   "metadata": {},
   "outputs": [],
   "source": [
    "import pandas as pd\n",
    "import re\n",
    "import json\n",
    "import psycopg2"
   ]
  },
  {
   "cell_type": "code",
   "execution_count": 40,
   "metadata": {},
   "outputs": [],
   "source": [
    "def db_connect():\n",
    "    conn = psycopg2.connect(\"dbname='rcdb' user='postgres' host='richcontext.cz5u3bpfaar4.us-east-1.rds.amazonaws.com' password='rc_dumps'\")\n",
    "    return conn\n",
    "\n",
    "        \n",
    "def run_select_query(conn,query):\n",
    "    cur = conn.cursor()\n",
    "    cur.execute(query)\n",
    "    rows = cur.fetchall()\n",
    "    cur.close()\n",
    "    return rows"
   ]
  },
  {
   "cell_type": "code",
   "execution_count": 41,
   "metadata": {},
   "outputs": [],
   "source": [
    "conn = db_connect()\n",
    "select_query = \"\"\"SELECT distinct dataset_name, dataset_alias,'USDA' as data_provider\n",
    "FROM public.usda_clean_dataset_names_20190913;\"\"\"\n",
    "existing_records = run_select_query(conn,select_query)  \n"
   ]
  },
  {
   "cell_type": "code",
   "execution_count": 42,
   "metadata": {},
   "outputs": [],
   "source": [
    "insert_statement = \"\"\"INSERT INTO public.dataset_names( dataset_name, dataset_alias, dataset_provider)\n",
    "VALUES {}\"\"\".format(\",\".join(str(i) for i in existing_records))"
   ]
  },
  {
   "cell_type": "code",
   "execution_count": 43,
   "metadata": {},
   "outputs": [],
   "source": [
    "cur = conn.cursor()\n",
    "cur.execute(insert_statement)\n",
    "conn.commit()"
   ]
  }
 ],
 "metadata": {
  "kernelspec": {
   "display_name": "Python 3",
   "language": "python",
   "name": "python3"
  },
  "language_info": {
   "codemirror_mode": {
    "name": "ipython",
    "version": 3
   },
   "file_extension": ".py",
   "mimetype": "text/x-python",
   "name": "python",
   "nbconvert_exporter": "python",
   "pygments_lexer": "ipython3",
   "version": "3.7.3"
  }
 },
 "nbformat": 4,
 "nbformat_minor": 2
}
