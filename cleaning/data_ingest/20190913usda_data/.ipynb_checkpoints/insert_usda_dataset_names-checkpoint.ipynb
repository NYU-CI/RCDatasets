{
 "cells": [
  {
   "cell_type": "code",
   "execution_count": 3,
   "metadata": {},
   "outputs": [],
   "source": [
    "import pandas as pd\n",
    "import re\n",
    "import json\n",
    "import psycopg2"
   ]
  },
  {
   "cell_type": "code",
   "execution_count": 6,
   "metadata": {},
   "outputs": [],
   "source": [
    "def db_connect():\n",
    "    conn = psycopg2.connect(\"dbname='rcdb' user='postgres' host='richcontext.cz5u3bpfaar4.us-east-1.rds.amazonaws.com' password='rc_dumps'\")\n",
    "    return conn\n",
    "\n",
    "        \n",
    "def run_select_query(conn,query):\n",
    "    cur = conn.cursor()\n",
    "    cur.execute(query)\n",
    "    rows = cur.fetchall()\n",
    "    cur.close()\n",
    "    return rows"
   ]
  },
  {
   "cell_type": "code",
   "execution_count": 37,
   "metadata": {},
   "outputs": [],
   "source": [
    "conn = db_connect()\n",
    "select_query = \"\"\"SELECT distinct dataset_name, dataset_alias,'USDA' as data_provider\n",
    "FROM public.usda_clean_dataset_names_20190913;\"\"\"\n",
    "existing_records = run_select_query(conn,select_query)  \n"
   ]
  },
  {
   "cell_type": "code",
   "execution_count": null,
   "metadata": {},
   "outputs": [],
   "source": [
    "insert_statement = \"\"\"INSERT INTO public.dataset_names( dataset_name, dataset_alias, dataset_provider)\n",
    "VALUES {}\"\"\".format(\",\".join(str(i) for i in existing_records))"
   ]
  },
  {
   "cell_type": "code",
   "execution_count": 32,
   "metadata": {},
   "outputs": [],
   "source": [
    "# insert_statement = \"\"\"INSERT INTO public.dataset_names( dataset_name, dataset_alias, dataset_provider)\n",
    "# VALUES {}\"\"\".format(existing_records)\n",
    "insert_statement = \"\"\"INSERT INTO public.dataset_names( dataset_name, dataset_alias, dataset_provider)\n",
    "VALUES {}\"\"\".format(\",\".join(str(i) for i in existing_records))\n",
    "\n",
    "\n",
    "#         conn = db_connect()\n",
    "#         cursor = conn.cursor()\n",
    "#         try:\n",
    "#             cursor.execute(insert_statement)\n",
    "# insert_statement\n"
   ]
  },
  {
   "cell_type": "code",
   "execution_count": 36,
   "metadata": {},
   "outputs": [],
   "source": [
    "conn = db_connect()\n",
    "cur = conn.cursor()\n",
    "cur.execute(insert_statement)\n",
    "conn.commit()"
   ]
  },
  {
   "cell_type": "code",
   "execution_count": 18,
   "metadata": {},
   "outputs": [
    {
     "data": {
      "text/plain": [
       "'INSERT INTO public.dataset_names(\\ndataset_name, dataset_alias, dataset_provider)\\nVALUES (?);'"
      ]
     },
     "execution_count": 18,
     "metadata": {},
     "output_type": "execute_result"
    }
   ],
   "source": [
    "cur = conn.cursor()\n",
    "ins_query = \"\"\"INSERT INTO public.dataset_names(\n",
    "dataset_name, dataset_alias, dataset_provider)\n",
    "VALUES (?);\"\"\".format(existing_records)\n",
    "ins_query"
   ]
  },
  {
   "cell_type": "code",
   "execution_count": 17,
   "metadata": {},
   "outputs": [
    {
     "ename": "TypeError",
     "evalue": "function missing required argument 'vars_list' (pos 2)",
     "output_type": "error",
     "traceback": [
      "\u001b[0;31m---------------------------------------------------------------------------\u001b[0m",
      "\u001b[0;31mTypeError\u001b[0m                                 Traceback (most recent call last)",
      "\u001b[0;32m<ipython-input-17-d037046b95bc>\u001b[0m in \u001b[0;36m<module>\u001b[0;34m\u001b[0m\n\u001b[1;32m      1\u001b[0m cur.executemany(\"\"\"INSERT INTO public.dataset_names(\n\u001b[1;32m      2\u001b[0m dataset_name, dataset_alias, dataset_provider)\n\u001b[0;32m----> 3\u001b[0;31m VALUES (?);\"\"\".format(existing_records))\n\u001b[0m",
      "\u001b[0;31mTypeError\u001b[0m: function missing required argument 'vars_list' (pos 2)"
     ]
    }
   ],
   "source": [
    "cur.executemany(\"\"\"INSERT INTO public.dataset_names(\n",
    "dataset_name, dataset_alias, dataset_provider)\n",
    "VALUES (?);\"\"\".format(existing_records))"
   ]
  },
  {
   "cell_type": "code",
   "execution_count": 13,
   "metadata": {},
   "outputs": [
    {
     "data": {
      "text/plain": [
       "'INSERT INTO public.dataset_names(\\ndataset_name, dataset_alias, dataset_provider)\\nVALUES (?);'"
      ]
     },
     "execution_count": 13,
     "metadata": {},
     "output_type": "execute_result"
    }
   ],
   "source": [
    "insert_statement"
   ]
  },
  {
   "cell_type": "code",
   "execution_count": null,
   "metadata": {},
   "outputs": [],
   "source": [
    "INSERT INTO public.dataset_names(\n",
    "dataset_name_id, original_dataset_name, dataset_name, dataset_provider, date_inserted)\n",
    "VALUES (?, ?, ?, ?, ?);"
   ]
  }
 ],
 "metadata": {
  "kernelspec": {
   "display_name": "Python 3",
   "language": "python",
   "name": "python3"
  },
  "language_info": {
   "codemirror_mode": {
    "name": "ipython",
    "version": 3
   },
   "file_extension": ".py",
   "mimetype": "text/x-python",
   "name": "python",
   "nbconvert_exporter": "python",
   "pygments_lexer": "ipython3",
   "version": "3.7.3"
  }
 },
 "nbformat": 4,
 "nbformat_minor": 2
}
